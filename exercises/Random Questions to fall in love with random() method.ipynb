{
 "cells": [
  {
   "cell_type": "code",
   "execution_count": 3,
   "id": "31c2054e",
   "metadata": {},
   "outputs": [],
   "source": [
    "import random"
   ]
  },
  {
   "cell_type": "code",
   "execution_count": 32,
   "id": "fa7b609f",
   "metadata": {},
   "outputs": [
    {
     "name": "stdout",
     "output_type": "stream",
     "text": [
      "Before making a telephone call, do you ever rehearse what you are going to say?\n"
     ]
    }
   ],
   "source": [
    "questions = ['Before making a telephone call, do you ever rehearse what you are going to say?', 'Would you like to be famous? In what way?', 'Given the choice of anyone in the world, whom would you want as a dinner guest?',\"Do you have a secret hunch about how you will die?\", \"For what in your life do you feel most grateful?\", \"If you could wake up tomorrow having gained any one quality or ability, what would it be?\", '\"What is the greatest accomplishment of your life?', 'What, if anything, is too serious to be joked about?', 'Your house, containing everything you own, catches fire. After saving your loved ones and pets, you have time to safely make a final dash to save any one item. What would it be? Why?', 'Share with your Ironhack fellow student an embarrassing moment in your life']\n",
    "\n",
    "print(random.choice(questions))\n"
   ]
  }
 ],
 "metadata": {
  "kernelspec": {
   "display_name": "Python 3",
   "language": "python",
   "name": "python3"
  },
  "language_info": {
   "codemirror_mode": {
    "name": "ipython",
    "version": 3
   },
   "file_extension": ".py",
   "mimetype": "text/x-python",
   "name": "python",
   "nbconvert_exporter": "python",
   "pygments_lexer": "ipython3",
   "version": "3.8.12"
  }
 },
 "nbformat": 4,
 "nbformat_minor": 5
}
