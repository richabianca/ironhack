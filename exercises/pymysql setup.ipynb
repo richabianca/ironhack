{
 "cells": [
  {
   "cell_type": "code",
   "execution_count": 1,
   "id": "400ba2b5",
   "metadata": {},
   "outputs": [],
   "source": [
    "import pymysql\n",
    "from sqlalchemy import create_engine\n",
    "import pandas as pd\n",
    "import getpass  # To get the password without showing the input"
   ]
  },
  {
   "cell_type": "code",
   "execution_count": 2,
   "id": "0e62e317",
   "metadata": {},
   "outputs": [],
   "source": [
    "#password = getpass.getpass()\n",
    "\n",
    "#connection_string = 'mysql+pymysql://root:' + password + '@localhost/bank'\n",
    "#engine = create_engine(connection_string)\n",
    "#query = '''select t.type, t.operation, t.amount as t_amount, t.balance, t.k_symbol, l.amount as l_amount, l.duration, l.payments, l.status\n",
    "#from trans t\n",
    "#left join loan l\n",
    "#on t.account_id = l.account_id;'''\n",
    "\n",
    "#data = pd.read_sql_query(query, engine)\n",
    "#data.head()"
   ]
  },
  {
   "cell_type": "code",
   "execution_count": 3,
   "id": "b910bfb0",
   "metadata": {},
   "outputs": [
    {
     "name": "stdout",
     "output_type": "stream",
     "text": [
      "Type your password:········\n"
     ]
    }
   ],
   "source": [
    "driver='mysql+pymysql'\n",
    "user='root'\n",
    "password= getpass.getpass(prompt='Type your password:''')\n",
    "ip='127.0.0.1'"
   ]
  },
  {
   "cell_type": "code",
   "execution_count": 4,
   "id": "f605ce19",
   "metadata": {},
   "outputs": [],
   "source": [
    "connection_string = f'{driver}://{user}:{password}@{ip}'"
   ]
  },
  {
   "cell_type": "code",
   "execution_count": 5,
   "id": "81519ca6",
   "metadata": {},
   "outputs": [
    {
     "ename": "NameError",
     "evalue": "name 'sa' is not defined",
     "output_type": "error",
     "traceback": [
      "\u001b[0;31m---------------------------------------------------------------------------\u001b[0m",
      "\u001b[0;31mNameError\u001b[0m                                 Traceback (most recent call last)",
      "\u001b[0;32m<ipython-input-5-317e2226b8bf>\u001b[0m in \u001b[0;36m<module>\u001b[0;34m\u001b[0m\n\u001b[0;32m----> 1\u001b[0;31m \u001b[0mdb_connection\u001b[0m\u001b[0;34m=\u001b[0m\u001b[0msa\u001b[0m\u001b[0;34m.\u001b[0m\u001b[0mcreate_engine\u001b[0m\u001b[0;34m(\u001b[0m\u001b[0mconnection_string\u001b[0m\u001b[0;34m)\u001b[0m\u001b[0;34m\u001b[0m\u001b[0;34m\u001b[0m\u001b[0m\n\u001b[0m",
      "\u001b[0;31mNameError\u001b[0m: name 'sa' is not defined"
     ]
    }
   ],
   "source": [
    "db_connection=sa.create_engine(connection_string)"
   ]
  },
  {
   "cell_type": "code",
   "execution_count": null,
   "id": "0df4eef8",
   "metadata": {},
   "outputs": [],
   "source": [
    "insp = sa.inspect(db_connection)"
   ]
  },
  {
   "cell_type": "code",
   "execution_count": null,
   "id": "2cc10fe0",
   "metadata": {},
   "outputs": [],
   "source": []
  },
  {
   "cell_type": "code",
   "execution_count": null,
   "id": "5b3e3814",
   "metadata": {},
   "outputs": [],
   "source": []
  }
 ],
 "metadata": {
  "kernelspec": {
   "display_name": "Python 3",
   "language": "python",
   "name": "python3"
  },
  "language_info": {
   "codemirror_mode": {
    "name": "ipython",
    "version": 3
   },
   "file_extension": ".py",
   "mimetype": "text/x-python",
   "name": "python",
   "nbconvert_exporter": "python",
   "pygments_lexer": "ipython3",
   "version": "3.8.8"
  }
 },
 "nbformat": 4,
 "nbformat_minor": 5
}
