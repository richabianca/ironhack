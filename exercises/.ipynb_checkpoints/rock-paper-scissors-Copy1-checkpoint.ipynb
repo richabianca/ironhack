{
 "cells": [
  {
   "cell_type": "markdown",
   "metadata": {},
   "source": [
    "<img src=\"https://bit.ly/2VnXWr2\" width=\"100\" align=\"left\">"
   ]
  },
  {
   "cell_type": "markdown",
   "metadata": {},
   "source": [
    "# Rock, Paper & Scissors\n",
    "\n",
    "Let's play the famous game against our computer. You can check the rules [here](https://en.wikipedia.org/wiki/Rock%E2%80%93paper%E2%80%93scissors). \n",
    "\n",
    "## Task\n",
    "Create a program that imitates the playability of the well known game of rock, paper, scissors. Follow the guidelines provided.\n",
    "\n",
    "## Tools\n",
    "1. Loop: **for/while**\n",
    "2. Functions: **input(), print()...**\n",
    "3. Conditional statements: **if, elif, else**\n",
    "4. Definition of functions. Modular programming\n",
    "5. Import modules\n",
    "\n",
    "**To solve this challenge, the use of functions is recommended.**\n",
    "\n",
    "#### 1. Import the choice function of the random module."
   ]
  },
  {
   "cell_type": "code",
   "execution_count": 1,
   "metadata": {},
   "outputs": [],
   "source": [
    "from random import choice"
   ]
  },
  {
   "cell_type": "markdown",
   "metadata": {},
   "source": [
    "#### 2. Create a list that includes the 3 possible gesture options of the game: 'rock', 'paper' or 'scissors'. Store the list in a variable called `gestures`."
   ]
  },
  {
   "cell_type": "code",
   "execution_count": 41,
   "metadata": {},
   "outputs": [],
   "source": [
    "gestures = ['rock', 'paper', 'scissors']\n",
    "gestures2 = ['lizar', 'spock']"
   ]
  },
  {
   "cell_type": "markdown",
   "metadata": {},
   "source": [
    "#### 3. Create a variable called `n_rounds` to store the maximum number of rounds to play in a game. \n",
    "Remember that the number of rounds must be odd: 1, 3, 5, ..."
   ]
  },
  {
   "cell_type": "code",
   "execution_count": 26,
   "metadata": {},
   "outputs": [],
   "source": [
    "n_rounds = 7"
   ]
  },
  {
   "cell_type": "markdown",
   "metadata": {},
   "source": [
    "#### 4. Create a variable called `rounds_to_win` to store the number of rounds that a player must win to win the game.\n",
    "**Hint**: the value stored in `rounds_to_win` depends on the value of `n_rounds`. "
   ]
  },
  {
   "cell_type": "code",
   "execution_count": 27,
   "metadata": {},
   "outputs": [],
   "source": [
    "rounds_to_win = (n_rounds - 1)/2 + 1"
   ]
  },
  {
   "cell_type": "markdown",
   "metadata": {},
   "source": [
    "#### 5. Create two variables to store the number of rounds that the computer and the player have won. Call these variables `cpu_score` and `player_score`."
   ]
  },
  {
   "cell_type": "code",
   "execution_count": 28,
   "metadata": {},
   "outputs": [],
   "source": [
    "cpu_score = 0\n",
    "player_score = 0"
   ]
  },
  {
   "cell_type": "markdown",
   "metadata": {},
   "source": [
    "#### 6. Define a function that randomly returns one of the 3 gesture options.\n",
    "You will use this function to simulate the gesture choice of the computer. "
   ]
  },
  {
   "cell_type": "code",
   "execution_count": 50,
   "metadata": {},
   "outputs": [],
   "source": [
    "def get_rnd_gesture(gestures):\n",
    "    return choice(gestures)"
   ]
  },
  {
   "cell_type": "code",
   "execution_count": 52,
   "metadata": {},
   "outputs": [],
   "source": [
    "import pandas as pd"
   ]
  },
  {
   "cell_type": "code",
   "execution_count": 83,
   "metadata": {},
   "outputs": [],
   "source": [
    "gestures = ['rock', 'paper', 'scissors']"
   ]
  },
  {
   "cell_type": "markdown",
   "metadata": {},
   "source": [
    "*`()` : parenthesis\n",
    "\n",
    "*`[]` : square brackets\n",
    "\n",
    "*`{}` : curly brackets\n",
    "\n",
    "*`:` : colon\n",
    "\n",
    "*`;` : semicolon\n",
    "\n",
    "*`-` : dash\n",
    "\n",
    "*`#` : hashtag\n",
    "\n",
    "*`/` forward slash\n",
    "\n",
    "*`\\` : backward slash\n",
    "\n",
    "*`_` : underscore\n",
    "\n",
    "*`__` : double underscore / \"dunder\"\n",
    "\n",
    "*`< >` : chevron / greater\n"
   ]
  },
  {
   "cell_type": "code",
   "execution_count": 79,
   "metadata": {},
   "outputs": [
    {
     "data": {
      "text/plain": [
       "'scissors'"
      ]
     },
     "execution_count": 79,
     "metadata": {},
     "output_type": "execute_result"
    }
   ],
   "source": [
    "get_rnd_gesture(gestures)"
   ]
  },
  {
   "cell_type": "markdown",
   "metadata": {},
   "source": [
    "#### 7. Define a function that asks the player which is the gesture he or she wants to show: 'rock', 'paper' or 'scissors'.\n",
    "The player should only be allowed to choose one of the 3 gesture options. If the player's choice is not rock, paper or scissors, keep asking until it is."
   ]
  },
  {
   "cell_type": "code",
   "execution_count": 80,
   "metadata": {},
   "outputs": [],
   "source": [
    "def input_gesture():\n",
    "    gest_input = input('Make a gesture (rock, paper, scissors)! ')\n",
    "    while gest_input not in gestures:\n",
    "        print('Not a valid gesture! Pick from rock, paper, or scissors!')\n",
    "        return input_gesture()\n",
    "    return gest_input"
   ]
  },
  {
   "cell_type": "code",
   "execution_count": 81,
   "metadata": {},
   "outputs": [
    {
     "name": "stdout",
     "output_type": "stream",
     "text": [
      "Make a gesture (rock, paper, scissors)! \n",
      "Not a valid gesture! Pick from rock, paper, or scissors!\n",
      "Make a gesture (rock, paper, scissors)! rock\n"
     ]
    },
    {
     "data": {
      "text/plain": [
       "'rock'"
      ]
     },
     "execution_count": 81,
     "metadata": {},
     "output_type": "execute_result"
    }
   ],
   "source": [
    "input_gesture()"
   ]
  },
  {
   "cell_type": "markdown",
   "metadata": {},
   "source": [
    "#### 8. Define a function that checks who won a round. \n",
    "The function should return 0 if there is a tie, 1 if the computer wins and 2 if the player wins."
   ]
  },
  {
   "cell_type": "code",
   "execution_count": 86,
   "metadata": {},
   "outputs": [],
   "source": [
    "gestures_dct = {gesture:index for gesture, index in zip(gestures, range(len(gestures)))}\n",
    "gestures_dct = {'rock': 0, 'paper': 1, 'scissors': 2}\n",
    "\n",
    "def game_result(choice_cpu, choice_p):\n",
    "    # Defining result matrix for results. Player's 'rock', 'paper',\n",
    "    # 'scissors' is labeling the columns. The rows are labeled 'rock',\n",
    "    # 'paper', 'scissors' as well and stand for the CPU's choice\n",
    "    # (this way, saving a lot of if's)\n",
    "    result_matrix = ((0,2,1),(1,0,2),(2,1,0))\n",
    "    return result_matrix[gestures_dct[choice_cpu]][gestures_dct[choice_p]]"
   ]
  },
  {
   "cell_type": "code",
   "execution_count": 87,
   "metadata": {},
   "outputs": [],
   "source": [
    "result_matrix = ((0,2,1),(1,0,2),(2,1,0))"
   ]
  },
  {
   "cell_type": "code",
   "execution_count": 88,
   "metadata": {},
   "outputs": [
    {
     "data": {
      "text/plain": [
       "2"
      ]
     },
     "execution_count": 88,
     "metadata": {},
     "output_type": "execute_result"
    }
   ],
   "source": [
    "result_matrix[0][1]"
   ]
  },
  {
   "cell_type": "code",
   "execution_count": 97,
   "metadata": {},
   "outputs": [
    {
     "data": {
      "text/plain": [
       "'computer won'"
      ]
     },
     "execution_count": 97,
     "metadata": {},
     "output_type": "execute_result"
    }
   ],
   "source": [
    "def game_result_r(choice_cpu, choice_p):\n",
    "    \"\"\"\n",
    "    return 0 if player won, 1 if tie, 2 if cpu won\n",
    "    \"\"\"\n",
    "    \n",
    "    if choice_cpu == \"rock\" and choice_p == \"scissors\":\n",
    "        return  2\n",
    "    if choice_cpu == \"rock\" and choice_p == \"paper\":\n",
    "        return  0\n",
    "\n",
    "def get_result_in_words(game_result):\n",
    "    return {0: 'player won',\n",
    "            1: 'tie',\n",
    "            2: 'computer won'}[game_result]\n",
    "\n",
    "def get_result_in_words(game_result):\n",
    "    word_dict= {0: 'player won',\n",
    "                1: 'tie',\n",
    "                2: 'computer won'}\n",
    "    \n",
    "    result_in_words = word_dict[game_result]\n",
    "    \n",
    "    return result_in_words\n",
    "\n",
    "\n",
    "get_result_in_words(game_result_r(choice_cpu='rock', choice_p='scissors'))"
   ]
  },
  {
   "cell_type": "code",
   "execution_count": 92,
   "metadata": {},
   "outputs": [
    {
     "data": {
      "text/plain": [
       "'player won'"
      ]
     },
     "execution_count": 92,
     "metadata": {},
     "output_type": "execute_result"
    }
   ],
   "source": [
    "word_dict= {0: 'player won',\n",
    "            1: 'tie',\n",
    "            2: 'computer won'}\n",
    "\n",
    "word_dict[0]"
   ]
  },
  {
   "cell_type": "markdown",
   "metadata": {},
   "source": [
    "#### 9. Define a function that prints the choice of the computer, the choice of the player and a message that announces who won the current round. \n",
    "You should also use this function to update the variables that count the number of rounds that the computer and the player have won. The score of the winner increases by one point. If there is a tie, the score does not increase."
   ]
  },
  {
   "cell_type": "code",
   "execution_count": 98,
   "metadata": {},
   "outputs": [],
   "source": [
    "def round_info(choice_cpu, won_by_cpu, choice_p, won_by_p):\n",
    "    # returns the numbers won by cpu and won by player as a tuple\n",
    "    \n",
    "    info_dict = {0: 'Tie!',\n",
    "                 1: 'Computer won!',\n",
    "                 2: 'Player won!',\n",
    "                }\n",
    "    \n",
    "    if game_result(choice_cpu,choice_p) == 1:\n",
    "        won_by_cpu += 1\n",
    "    \n",
    "    if game_result(choice_cpu, choice_p) == 2:\n",
    "        won_by_p += 1\n",
    "\n",
    "    print('Computer chose ' + choice_cpu + ', ' + info_dict[game_result(choice_cpu, choice_p)])\n",
    "    return won_by_cpu, won_by_p\n",
    "    "
   ]
  },
  {
   "cell_type": "code",
   "execution_count": 99,
   "metadata": {},
   "outputs": [
    {
     "name": "stdout",
     "output_type": "stream",
     "text": [
      "Computer chose rock, Computer won!\n"
     ]
    },
    {
     "data": {
      "text/plain": [
       "(4, 6)"
      ]
     },
     "execution_count": 99,
     "metadata": {},
     "output_type": "execute_result"
    }
   ],
   "source": [
    "round_info('rock', 3, 'scissors', 6)"
   ]
  },
  {
   "cell_type": "markdown",
   "metadata": {},
   "source": [
    "#### 10. Now it's time to code the execution of the game using the functions and variables you defined above. \n",
    "\n",
    "First, create a loop structure that repeats while no player reaches the minimum score necessary to win and the number of rounds is less than the maximum number of rounds to play in a game.  \n",
    "\n",
    "Inside the loop, use the functions and variables above to create the execution of a round: ask for the player's choice, generate the random choice of the computer, show the round results, update the scores, etc. "
   ]
  },
  {
   "cell_type": "code",
   "execution_count": 100,
   "metadata": {},
   "outputs": [
    {
     "name": "stdout",
     "output_type": "stream",
     "text": [
      "Make a gesture (rock, paper, scissors)! rockj\n",
      "Not a valid gesture! Pick from rock, paper, or scissors!\n",
      "Make a gesture (rock, paper, scissors)! rock\n"
     ]
    },
    {
     "ename": "TypeError",
     "evalue": "get_rnd_gesture() missing 1 required positional argument: 'gestures'",
     "output_type": "error",
     "traceback": [
      "\u001b[0;31m---------------------------------------------------------------------------\u001b[0m",
      "\u001b[0;31mTypeError\u001b[0m                                 Traceback (most recent call last)",
      "\u001b[0;32m<ipython-input-100-dbe133dd809e>\u001b[0m in \u001b[0;36m<module>\u001b[0;34m\u001b[0m\n\u001b[1;32m     23\u001b[0m         \u001b[0mprint\u001b[0m\u001b[0;34m(\u001b[0m\u001b[0;34m'\\n The Computer won the game!'\u001b[0m\u001b[0;34m)\u001b[0m\u001b[0;34m\u001b[0m\u001b[0;34m\u001b[0m\u001b[0m\n\u001b[1;32m     24\u001b[0m \u001b[0;34m\u001b[0m\u001b[0m\n\u001b[0;32m---> 25\u001b[0;31m \u001b[0mrock_paper_scissors\u001b[0m\u001b[0;34m(\u001b[0m\u001b[0;34m)\u001b[0m\u001b[0;34m\u001b[0m\u001b[0;34m\u001b[0m\u001b[0m\n\u001b[0m",
      "\u001b[0;32m<ipython-input-100-dbe133dd809e>\u001b[0m in \u001b[0;36mrock_paper_scissors\u001b[0;34m()\u001b[0m\n\u001b[1;32m      5\u001b[0m     \u001b[0;32mwhile\u001b[0m \u001b[0mcpu_score\u001b[0m \u001b[0;34m<\u001b[0m \u001b[0mrounds_to_win\u001b[0m \u001b[0;32mand\u001b[0m \u001b[0mplayer_score\u001b[0m \u001b[0;34m<\u001b[0m \u001b[0mrounds_to_win\u001b[0m \u001b[0;32mand\u001b[0m \u001b[0mcurr_round\u001b[0m \u001b[0;34m<\u001b[0m \u001b[0mn_rounds\u001b[0m\u001b[0;34m:\u001b[0m\u001b[0;34m\u001b[0m\u001b[0;34m\u001b[0m\u001b[0m\n\u001b[1;32m      6\u001b[0m         \u001b[0mplayer_gesture\u001b[0m \u001b[0;34m=\u001b[0m \u001b[0minput_gesture\u001b[0m\u001b[0;34m(\u001b[0m\u001b[0;34m)\u001b[0m\u001b[0;34m\u001b[0m\u001b[0;34m\u001b[0m\u001b[0m\n\u001b[0;32m----> 7\u001b[0;31m         \u001b[0mcpu_gesture\u001b[0m \u001b[0;34m=\u001b[0m \u001b[0mget_rnd_gesture\u001b[0m\u001b[0;34m(\u001b[0m\u001b[0;34m)\u001b[0m\u001b[0;34m\u001b[0m\u001b[0;34m\u001b[0m\u001b[0m\n\u001b[0m\u001b[1;32m      8\u001b[0m         \u001b[0mcpu_score\u001b[0m\u001b[0;34m,\u001b[0m \u001b[0mplayer_score\u001b[0m \u001b[0;34m=\u001b[0m \u001b[0mround_info\u001b[0m\u001b[0;34m(\u001b[0m\u001b[0mcpu_gesture\u001b[0m\u001b[0;34m,\u001b[0m \u001b[0mcpu_score\u001b[0m\u001b[0;34m,\u001b[0m \u001b[0mplayer_gesture\u001b[0m\u001b[0;34m,\u001b[0m \u001b[0mplayer_score\u001b[0m\u001b[0;34m)\u001b[0m\u001b[0;34m\u001b[0m\u001b[0;34m\u001b[0m\u001b[0m\n\u001b[1;32m      9\u001b[0m \u001b[0;34m\u001b[0m\u001b[0m\n",
      "\u001b[0;31mTypeError\u001b[0m: get_rnd_gesture() missing 1 required positional argument: 'gestures'"
     ]
    }
   ],
   "source": [
    "def rock_paper_scissors():\n",
    "    curr_round = 0\n",
    "    cpu_score = 0\n",
    "    player_score = 0\n",
    "    while cpu_score < rounds_to_win and player_score < rounds_to_win and curr_round < n_rounds:\n",
    "        player_gesture = input_gesture()\n",
    "        cpu_gesture = get_rnd_gesture()\n",
    "        cpu_score, player_score = round_info(cpu_gesture, cpu_score, player_gesture, player_score)\n",
    "\n",
    "        # Round information\n",
    "        print('Standing after round ' + str(curr_round + 1) + ' \\n' \n",
    "              +  ' CPU - ' + str(cpu_score) \n",
    "              + ', Player - ' + str(player_score)\n",
    "             )\n",
    "\n",
    "        curr_round +=1\n",
    "        \n",
    "    if player_score == cpu_score:\n",
    "        print('\\n The game is a Tie!')\n",
    "    elif player_score > cpu_score:\n",
    "        print('\\n You won the game!')\n",
    "    elif player_score < cpu_score:\n",
    "        print('\\n The Computer won the game!')\n",
    "        \n",
    "rock_paper_scissors()\n"
   ]
  },
  {
   "cell_type": "markdown",
   "metadata": {},
   "source": [
    "#### 11. Print the winner of the game based on who won more rounds.\n",
    "Remember that the game might be tied. "
   ]
  },
  {
   "cell_type": "markdown",
   "metadata": {},
   "source": [
    "***see full game in above cell :)***"
   ]
  },
  {
   "cell_type": "markdown",
   "metadata": {},
   "source": [
    "# Bonus: Rock, Paper, Scissors, Lizard & Spock\n",
    "![](images/rpsls.jpg)\n",
    "\n",
    "In this challenge, you need to improve the previous game by adding two new options. To know more about the rules of the improved version of rock, paper, scissors, check this [link](http://www.samkass.com/theories/RPSSL.html). \n",
    "\n",
    "In addition, you will also need to improve how the game interacts with the player: the number of rounds to play, which must be an odd number, will be requested to the user until a valid number is entered. Define a new function to make that request.\n",
    "\n",
    "**Hint**: Try to reuse the code that you already coded in the previous challenge. If your code is efficient, this bonus will only consist of simple modifications to the original game."
   ]
  },
  {
   "cell_type": "code",
   "execution_count": 29,
   "metadata": {},
   "outputs": [
    {
     "name": "stdout",
     "output_type": "stream",
     "text": [
      "How many rounds do we play? Choose an odd integer number!7\n",
      "Make a gesture, ['rock', 'paper', 'scissors', 'lizzard', 'spock']!rock\n",
      "Computer chose paper, Computer won!\n",
      "Standing after round 1 \n",
      " CPU - 1, Player - 0\n",
      "Make a gesture, ['rock', 'paper', 'scissors', 'lizzard', 'spock']!spock\n",
      "Computer chose rock, Player won!\n",
      "Standing after round 2 \n",
      " CPU - 1, Player - 1\n",
      "Make a gesture, ['rock', 'paper', 'scissors', 'lizzard', 'spock']!lizzard\n",
      "Computer chose scissors, Computer won!\n",
      "Standing after round 3 \n",
      " CPU - 2, Player - 1\n",
      "Make a gesture, ['rock', 'paper', 'scissors', 'lizzard', 'spock']!spock\n",
      "Computer chose lizzard, Computer won!\n",
      "Standing after round 4 \n",
      " CPU - 3, Player - 1\n",
      "Make a gesture, ['rock', 'paper', 'scissors', 'lizzard', 'spock']!rock\n",
      "Computer chose rock, Tie!\n",
      "Standing after round 5 \n",
      " CPU - 3, Player - 1\n",
      "Make a gesture, ['rock', 'paper', 'scissors', 'lizzard', 'spock']!spock\n",
      "Computer chose scissors, Player won!\n",
      "Standing after round 6 \n",
      " CPU - 3, Player - 2\n",
      "Make a gesture, ['rock', 'paper', 'scissors', 'lizzard', 'spock']!lizzard\n",
      "Computer chose spock, Player won!\n",
      "Standing after round 7 \n",
      " CPU - 3, Player - 3\n",
      "\n",
      " The game is a Tie!\n"
     ]
    }
   ],
   "source": [
    "from random import choice\n",
    "\n",
    "gestures = ['rock', 'paper', 'scissors', 'lizzard', 'spock']\n",
    "\n",
    "# Helping dictionary to index the possible gestures\n",
    "gestures_dct = {gesture:index for gesture,index in zip(gestures,range(len(gestures)))}\n",
    "\n",
    "# Function to get the number of rounds to play from user\n",
    "def input_roundstoplay():\n",
    "    roundstoplay = input('How many rounds do we play? Choose an odd integer number!')\n",
    "  \n",
    "    # First check if entered value is numeric, make user try again if not\n",
    "    while not roundstoplay.isnumeric():\n",
    "        print('You did not enter a valid integer. Please enter an odd integer number.')\n",
    "        return input_roundstoplay()\n",
    "    \n",
    "    # now we are sure, the provided input is a positive integer value in string form. Let's cast it.\n",
    "    roundstoplay = int(roundstoplay)\n",
    "    \n",
    "    # Check if odd, make user try again if not\n",
    "    while int(roundstoplay) % 2 == 0:\n",
    "        print('Not an odd number! Please enter an odd number!')\n",
    "        return input_roundstoplay()\n",
    "    \n",
    "    # return the resulting value\n",
    "    return roundstoplay\n",
    "\n",
    "# Function to provide randomized gesture\n",
    "def get_rnd_gesture():\n",
    "    return choice(gestures)\n",
    "\n",
    "# Function to obtain gesture from user input\n",
    "def input_gesture():\n",
    "    gest_input = input('Make a gesture, {}!'.format(str(gestures)))\n",
    "    while str(gest_input) not in gestures:\n",
    "        print('Not a valid gesture! Pick from rock, paper, scissors, lizard or spock!')\n",
    "        return input_gesture()\n",
    "    return gest_input\n",
    "\n",
    "# Function to inform user of result of current round and update scores\n",
    "def round_info(choice_cpu, won_by_cpu, choice_p, won_by_p):\n",
    "    \n",
    "    info_dict = {0: 'Tie!',\n",
    "                 1: 'Computer won!',\n",
    "                 2: 'Player won!',\n",
    "                }\n",
    "    \n",
    "    if game_result(choice_cpu,choice_p) == 1:\n",
    "        won_by_cpu += 1\n",
    "    \n",
    "    if game_result(choice_cpu,choice_p) == 2:\n",
    "        won_by_p += 1\n",
    "        \n",
    "    \n",
    "    print('Computer chose ' + choice_cpu + ', ' + info_dict[game_result(choice_cpu,choice_p)])\n",
    "    return won_by_cpu, won_by_p\n",
    "\n",
    "# Function to calculate game result\n",
    "def game_result(choice_cpu, choice_p):\n",
    "    # Defining result matrix for results. Columns stand for Player's choice, \n",
    "    # Rows for CPU choice. Bot can choose 'rock', 'paper', 'scissors', 'lizzard',\n",
    "    # 'spock', So we have a 5x5 result matrix. The entries are the results: 0 for Tie,\n",
    "    # 1 for CPU wins, 2 for Player wins.\n",
    "    # (this way, saving a lot of if's)\n",
    "    result_matrix = ((0,2,1,1,2),(1,0,2,2,1),(2,1,0,1,2),(2,1,2,0,1),(1,2,1,2,0))\n",
    "    \n",
    "    # Return the corresponding result using the result matrix\n",
    "    return result_matrix[gestures_dct[choice_cpu]][gestures_dct[choice_p]]\n",
    "\n",
    "# Main game method\n",
    "def rpsls():\n",
    "    curr_round = 0   # Round counter\n",
    "    cpu_score = 0   # Current cpu score\n",
    "    player_score = 0   # Current player score\n",
    "    \n",
    "    # Get number of rounds to play from user input\n",
    "    n_rounds = input_roundstoplay()\n",
    "    \n",
    "    # ... which determines number of rounds needed to win\n",
    "    rounds_to_win = (n_rounds - 1)/2 + 1\n",
    "    \n",
    "    # Start the match!\n",
    "    while cpu_score < rounds_to_win and player_score < rounds_to_win and curr_round < n_rounds:\n",
    "        \n",
    "        # Get player gesture from input\n",
    "        player_gesture = input_gesture()\n",
    "        \n",
    "        # Get CPU gesture randomly\n",
    "        cpu_gesture = get_rnd_gesture()\n",
    "        \n",
    "        # Calculate who won the round and update each players scores\n",
    "        cpu_score, player_score = round_info(cpu_gesture, cpu_score, player_gesture, player_score)\n",
    "\n",
    "        # Print round information\n",
    "        print('Standing after round ' + str(curr_round + 1) + ' \\n' \n",
    "              +  ' CPU - ' + str(cpu_score) \n",
    "              + ', Player - ' + str(player_score)\n",
    "             )\n",
    "        \n",
    "        # Increment round counter\n",
    "        curr_round += 1\n",
    "        \n",
    "    if player_score == cpu_score:\n",
    "        print('\\n The game is a Tie!')\n",
    "    elif player_score > cpu_score:\n",
    "        print('\\n You won the game!')\n",
    "    elif player_score < cpu_score:\n",
    "        print('\\n The Computer won the game!')\n",
    "        \n",
    "# Execute main game method\n",
    "rpsls()"
   ]
  },
  {
   "cell_type": "code",
   "execution_count": 106,
   "metadata": {},
   "outputs": [
    {
     "name": "stdout",
     "output_type": "stream",
     "text": [
      "Please choose one of the following options: rock, paper or scissors:lizard\n"
     ]
    },
    {
     "ename": "KeyboardInterrupt",
     "evalue": "Interrupted by user",
     "output_type": "error",
     "traceback": [
      "\u001b[0;31m---------------------------------------------------------------------------\u001b[0m",
      "\u001b[0;31mKeyboardInterrupt\u001b[0m                         Traceback (most recent call last)",
      "\u001b[0;32m<ipython-input-106-1c6b5ad710c7>\u001b[0m in \u001b[0;36m<module>\u001b[0;34m\u001b[0m\n\u001b[1;32m     19\u001b[0m     \u001b[0;32mreturn\u001b[0m \u001b[0mplayer_gesture\u001b[0m\u001b[0;34m\u001b[0m\u001b[0;34m\u001b[0m\u001b[0m\n\u001b[1;32m     20\u001b[0m \u001b[0;34m\u001b[0m\u001b[0m\n\u001b[0;32m---> 21\u001b[0;31m \u001b[0mtype\u001b[0m\u001b[0;34m(\u001b[0m\u001b[0mchoose_gesture\u001b[0m\u001b[0;34m(\u001b[0m\u001b[0;34m)\u001b[0m \u001b[0;34m)\u001b[0m\u001b[0;34m\u001b[0m\u001b[0;34m\u001b[0m\u001b[0m\n\u001b[0m",
      "\u001b[0;32m<ipython-input-106-1c6b5ad710c7>\u001b[0m in \u001b[0;36mchoose_gesture\u001b[0;34m()\u001b[0m\n\u001b[1;32m     15\u001b[0m     \u001b[0mplayer_gesture\u001b[0m \u001b[0;34m=\u001b[0m \u001b[0minput\u001b[0m\u001b[0;34m(\u001b[0m\u001b[0;34m'Please choose one of the following options: rock, paper or scissors:'\u001b[0m\u001b[0;34m)\u001b[0m\u001b[0;34m\u001b[0m\u001b[0;34m\u001b[0m\u001b[0m\n\u001b[1;32m     16\u001b[0m     \u001b[0;32mwhile\u001b[0m \u001b[0mplayer_gesture\u001b[0m \u001b[0;32mnot\u001b[0m \u001b[0;32min\u001b[0m \u001b[0mgesture\u001b[0m\u001b[0;34m:\u001b[0m\u001b[0;34m\u001b[0m\u001b[0;34m\u001b[0m\u001b[0m\n\u001b[0;32m---> 17\u001b[0;31m         \u001b[0mplayer_gesture\u001b[0m \u001b[0;34m=\u001b[0m \u001b[0minput\u001b[0m\u001b[0;34m(\u001b[0m\u001b[0;34m'Please choose one of the following options: rock, paper or scissors:'\u001b[0m\u001b[0;34m)\u001b[0m\u001b[0;34m\u001b[0m\u001b[0;34m\u001b[0m\u001b[0m\n\u001b[0m\u001b[1;32m     18\u001b[0m     \u001b[0mprint\u001b[0m\u001b[0;34m(\u001b[0m\u001b[0;34m\"you chose: \"\u001b[0m \u001b[0;34m+\u001b[0m \u001b[0mplayer_gesture\u001b[0m \u001b[0;34m+\u001b[0m \u001b[0;34m\"... Game on!\"\u001b[0m\u001b[0;34m)\u001b[0m\u001b[0;34m\u001b[0m\u001b[0;34m\u001b[0m\u001b[0m\n\u001b[1;32m     19\u001b[0m     \u001b[0;32mreturn\u001b[0m \u001b[0mplayer_gesture\u001b[0m\u001b[0;34m\u001b[0m\u001b[0;34m\u001b[0m\u001b[0m\n",
      "\u001b[0;32m~/anaconda3/envs/ironhack/lib/python3.8/site-packages/ipykernel/kernelbase.py\u001b[0m in \u001b[0;36mraw_input\u001b[0;34m(self, prompt)\u001b[0m\n\u001b[1;32m    858\u001b[0m                 \u001b[0;34m\"raw_input was called, but this frontend does not support input requests.\"\u001b[0m\u001b[0;34m\u001b[0m\u001b[0;34m\u001b[0m\u001b[0m\n\u001b[1;32m    859\u001b[0m             )\n\u001b[0;32m--> 860\u001b[0;31m         return self._input_request(str(prompt),\n\u001b[0m\u001b[1;32m    861\u001b[0m             \u001b[0mself\u001b[0m\u001b[0;34m.\u001b[0m\u001b[0m_parent_ident\u001b[0m\u001b[0;34m,\u001b[0m\u001b[0;34m\u001b[0m\u001b[0;34m\u001b[0m\u001b[0m\n\u001b[1;32m    862\u001b[0m             \u001b[0mself\u001b[0m\u001b[0;34m.\u001b[0m\u001b[0m_parent_header\u001b[0m\u001b[0;34m,\u001b[0m\u001b[0;34m\u001b[0m\u001b[0;34m\u001b[0m\u001b[0m\n",
      "\u001b[0;32m~/anaconda3/envs/ironhack/lib/python3.8/site-packages/ipykernel/kernelbase.py\u001b[0m in \u001b[0;36m_input_request\u001b[0;34m(self, prompt, ident, parent, password)\u001b[0m\n\u001b[1;32m    902\u001b[0m             \u001b[0;32mexcept\u001b[0m \u001b[0mKeyboardInterrupt\u001b[0m\u001b[0;34m:\u001b[0m\u001b[0;34m\u001b[0m\u001b[0;34m\u001b[0m\u001b[0m\n\u001b[1;32m    903\u001b[0m                 \u001b[0;31m# re-raise KeyboardInterrupt, to truncate traceback\u001b[0m\u001b[0;34m\u001b[0m\u001b[0;34m\u001b[0m\u001b[0;34m\u001b[0m\u001b[0m\n\u001b[0;32m--> 904\u001b[0;31m                 \u001b[0;32mraise\u001b[0m \u001b[0mKeyboardInterrupt\u001b[0m\u001b[0;34m(\u001b[0m\u001b[0;34m\"Interrupted by user\"\u001b[0m\u001b[0;34m)\u001b[0m \u001b[0;32mfrom\u001b[0m \u001b[0;32mNone\u001b[0m\u001b[0;34m\u001b[0m\u001b[0;34m\u001b[0m\u001b[0m\n\u001b[0m\u001b[1;32m    905\u001b[0m             \u001b[0;32mexcept\u001b[0m \u001b[0mException\u001b[0m \u001b[0;32mas\u001b[0m \u001b[0me\u001b[0m\u001b[0;34m:\u001b[0m\u001b[0;34m\u001b[0m\u001b[0;34m\u001b[0m\u001b[0m\n\u001b[1;32m    906\u001b[0m                 \u001b[0mself\u001b[0m\u001b[0;34m.\u001b[0m\u001b[0mlog\u001b[0m\u001b[0;34m.\u001b[0m\u001b[0mwarning\u001b[0m\u001b[0;34m(\u001b[0m\u001b[0;34m\"Invalid Message:\"\u001b[0m\u001b[0;34m,\u001b[0m \u001b[0mexc_info\u001b[0m\u001b[0;34m=\u001b[0m\u001b[0;32mTrue\u001b[0m\u001b[0;34m)\u001b[0m\u001b[0;34m\u001b[0m\u001b[0;34m\u001b[0m\u001b[0m\n",
      "\u001b[0;31mKeyboardInterrupt\u001b[0m: Interrupted by user"
     ]
    }
   ],
   "source": [
    "import random\n",
    "\n",
    "gesture= ['rock', 'paper', 'scissors']\n",
    "\n",
    "cpu_score=0\n",
    "player_score=0\n",
    "\n",
    "def rand_gest():\n",
    "    random_gesture = random.choice(gesture)\n",
    "    return random_gesture\n",
    "\n",
    "rand_gest()\n",
    "\n",
    "def choose_gesture():\n",
    "    player_gesture = input('Please choose one of the following options: rock, paper or scissors:')\n",
    "    while player_gesture not in gesture:\n",
    "        player_gesture = input('Please choose one of the following options: rock, paper or scissors:')\n",
    "    print(\"you chose: \" + player_gesture + \"... Game on!\")\n",
    "    return player_gesture\n",
    "\n",
    "type(choose_gesture() )"
   ]
  },
  {
   "cell_type": "code",
   "execution_count": 104,
   "metadata": {},
   "outputs": [
    {
     "name": "stdout",
     "output_type": "stream",
     "text": [
      "Please choose one of the following options: rock, paper or scissors:lizard\n",
      "Please choose one of the following options: rock, paper or scissors:rock\n",
      "you chose: rock... Game on!\n"
     ]
    },
    {
     "data": {
      "text/plain": [
       "str"
      ]
     },
     "execution_count": 104,
     "metadata": {},
     "output_type": "execute_result"
    }
   ],
   "source": [
    "type(choose_gesture())"
   ]
  },
  {
   "cell_type": "code",
   "execution_count": null,
   "metadata": {},
   "outputs": [],
   "source": []
  }
 ],
 "metadata": {
  "kernelspec": {
   "display_name": "Python 3",
   "language": "python",
   "name": "python3"
  },
  "language_info": {
   "codemirror_mode": {
    "name": "ipython",
    "version": 3
   },
   "file_extension": ".py",
   "mimetype": "text/x-python",
   "name": "python",
   "nbconvert_exporter": "python",
   "pygments_lexer": "ipython3",
   "version": "3.8.8"
  }
 },
 "nbformat": 4,
 "nbformat_minor": 2
}
