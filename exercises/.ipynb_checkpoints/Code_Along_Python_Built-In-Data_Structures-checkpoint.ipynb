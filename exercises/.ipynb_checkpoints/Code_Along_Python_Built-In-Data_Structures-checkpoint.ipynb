{
 "cells": [
  {
   "cell_type": "markdown",
   "metadata": {
    "id": "JY7x-LVSTDP-"
   },
   "source": [
    "# Python Built-In Data Structures"
   ]
  },
  {
   "cell_type": "code",
   "execution_count": null,
   "metadata": {},
   "outputs": [],
   "source": [
    "tas = ['f']"
   ]
  },
  {
   "cell_type": "markdown",
   "metadata": {
    "id": "MIyFrLvJTDQI"
   },
   "source": [
    "## Lists"
   ]
  },
  {
   "cell_type": "markdown",
   "metadata": {
    "id": "QtkkNP8iTDQJ"
   },
   "source": [
    "#### Indexing, slicing, appending"
   ]
  },
  {
   "cell_type": "markdown",
   "metadata": {
    "id": "1A_2ABUuTDQL"
   },
   "source": [
    "#### Iterating through lists"
   ]
  },
  {
   "cell_type": "code",
   "execution_count": 16,
   "metadata": {
    "executionInfo": {
     "elapsed": 219,
     "status": "ok",
     "timestamp": 1622473266171,
     "user": {
      "displayName": "Ignacio Soteras",
      "photoUrl": "",
      "userId": "02050793736257155229"
     },
     "user_tz": -120
    },
    "id": "-NX_DJeXTDQL"
   },
   "outputs": [],
   "source": [
    "students = [\"tobias hegewald\",\"srinivasan narayanan\", \"silvia delgado abendano\" , \n",
    "            \"shushanik hakobyan hakobyan\" , \"rene stuedemann\", \n",
    "            \"raphael weidemann\" , \"peter ludas\" , \n",
    "            \"niranjan shrikant kondo\", \"nelson lage\" , \n",
    "            \"mercedes santana rodriguez\", \"marie rodov\" , \n",
    "            \"luca hein\",\"inga eichhorn\" ,\n",
    "            \"hong kiu cheng\" , \"henrike sahnwaldt\",\"enrique hernani ros\",\"emma baker reynolds\",\n",
    "            \"edu jockers\",\"dwie steffyanti\",\"denny meyer\",\"carlos martinez\",\"carla colomer\",\n",
    "            \"bianca macedo richa\",\"rand abu ajamia\"]"
   ]
  },
  {
   "cell_type": "code",
   "execution_count": 17,
   "metadata": {},
   "outputs": [
    {
     "data": {
      "text/plain": [
       "['tobias hegewald',\n",
       " 'srinivasan narayanan',\n",
       " 'silvia delgado abendano',\n",
       " 'shushanik hakobyan hakobyan',\n",
       " 'rene stuedemann',\n",
       " 'raphael weidemann',\n",
       " 'peter ludas',\n",
       " 'niranjan shrikant kondo',\n",
       " 'nelson lage',\n",
       " 'mercedes santana rodriguez',\n",
       " 'marie rodov',\n",
       " 'luca hein',\n",
       " 'inga eichhorn',\n",
       " 'hong kiu cheng',\n",
       " 'henrike sahnwaldt',\n",
       " 'enrique hernani ros',\n",
       " 'emma baker reynolds',\n",
       " 'edu jockers',\n",
       " 'dwie steffyanti',\n",
       " 'denny meyer',\n",
       " 'carlos martinez',\n",
       " 'carla colomer',\n",
       " 'bianca macedo richa',\n",
       " 'rand abu ajamia']"
      ]
     },
     "execution_count": 17,
     "metadata": {},
     "output_type": "execute_result"
    }
   ],
   "source": [
    "students"
   ]
  },
  {
   "cell_type": "markdown",
   "metadata": {
    "id": "31rHy2z_TDQM"
   },
   "source": [
    "#### Print students with names starting with e"
   ]
  },
  {
   "cell_type": "markdown",
   "metadata": {
    "id": "CxU-y1wDTDQM"
   },
   "source": [
    "#### Create two lists: \"student_names\" and \"student_surnames\""
   ]
  },
  {
   "cell_type": "markdown",
   "metadata": {
    "id": "JXR4QJ23TDQN"
   },
   "source": [
    "#### Print the surname for \"bianca\"."
   ]
  },
  {
   "cell_type": "markdown",
   "metadata": {},
   "source": [
    "<b>user input"
   ]
  },
  {
   "cell_type": "markdown",
   "metadata": {
    "id": "cIXAV-1PTDQP"
   },
   "source": [
    "## Dictionaries"
   ]
  },
  {
   "cell_type": "markdown",
   "metadata": {
    "id": "dWATnEg2TDQQ"
   },
   "source": [
    "#### Accessing keys & values"
   ]
  },
  {
   "cell_type": "markdown",
   "metadata": {
    "id": "S71yWy_TTDQR"
   },
   "source": [
    "#### Iterate through dictionary"
   ]
  },
  {
   "cell_type": "markdown",
   "metadata": {
    "id": "_1gzqo1QTDQR"
   },
   "source": [
    "#### Nested dictionaries\n",
    "\n",
    "Create a dictionary of teachers. For it teacher, it stores their age, role and the city where they live."
   ]
  },
  {
   "cell_type": "markdown",
   "metadata": {
    "id": "dk6riaYKTDQS"
   },
   "source": [
    "#### Print only name of teachers who live in Berlin"
   ]
  },
  {
   "cell_type": "markdown",
   "metadata": {
    "id": "6doqUoN5TDQS"
   },
   "source": [
    "## Tuples"
   ]
  },
  {
   "cell_type": "markdown",
   "metadata": {
    "id": "aiyy0TvZTDQT"
   },
   "source": [
    "## Sets"
   ]
  },
  {
   "cell_type": "markdown",
   "metadata": {
    "id": "hBrTNpyUTDQU"
   },
   "source": [
    "#### Take a random sample (with replacement) of 100 numbers from 1 to 100:"
   ]
  },
  {
   "cell_type": "markdown",
   "metadata": {
    "id": "4fvrNF5MTDQU"
   },
   "source": [
    "What is the expected proportion of unique elements when taking samples with replacement of the same size of the population?\n",
    "\n",
    "Too soon for statistics: take a hacker approach - repeat the operation a few thousand times and report the average."
   ]
  },
  {
   "cell_type": "code",
   "execution_count": 69,
   "metadata": {
    "executionInfo": {
     "elapsed": 179,
     "status": "ok",
     "timestamp": 1622473590721,
     "user": {
      "displayName": "Ignacio Soteras",
      "photoUrl": "",
      "userId": "02050793736257155229"
     },
     "user_tz": -120
    },
    "id": "M7gJayegTDQV"
   },
   "outputs": [],
   "source": [
    "import statistics"
   ]
  },
  {
   "cell_type": "code",
   "execution_count": null,
   "metadata": {},
   "outputs": [],
   "source": []
  },
  {
   "cell_type": "markdown",
   "metadata": {},
   "source": [
    "### Set items are immutable"
   ]
  },
  {
   "cell_type": "code",
   "execution_count": 76,
   "metadata": {},
   "outputs": [
    {
     "ename": "TypeError",
     "evalue": "unhashable type: 'list'",
     "output_type": "error",
     "traceback": [
      "\u001b[0;31m---------------------------------------------------------------------------\u001b[0m",
      "\u001b[0;31mTypeError\u001b[0m                                 Traceback (most recent call last)",
      "\u001b[0;32m<ipython-input-76-8434ffc39967>\u001b[0m in \u001b[0;36m<module>\u001b[0;34m\u001b[0m\n\u001b[1;32m      1\u001b[0m \u001b[0mset1\u001b[0m \u001b[0;34m=\u001b[0m \u001b[0;34m{\u001b[0m\u001b[0;36m1\u001b[0m\u001b[0;34m,\u001b[0m\u001b[0;36m2\u001b[0m\u001b[0;34m,\u001b[0m\u001b[0;36m3\u001b[0m\u001b[0;34m}\u001b[0m\u001b[0;34m\u001b[0m\u001b[0;34m\u001b[0m\u001b[0m\n\u001b[1;32m      2\u001b[0m \u001b[0;34m\u001b[0m\u001b[0m\n\u001b[0;32m----> 3\u001b[0;31m \u001b[0mset2\u001b[0m \u001b[0;34m=\u001b[0m \u001b[0;34m{\u001b[0m\u001b[0;36m1\u001b[0m\u001b[0;34m,\u001b[0m\u001b[0;36m2\u001b[0m\u001b[0;34m,\u001b[0m\u001b[0;34m[\u001b[0m\u001b[0;36m1\u001b[0m\u001b[0;34m,\u001b[0m\u001b[0;36m2\u001b[0m\u001b[0;34m]\u001b[0m\u001b[0;34m}\u001b[0m\u001b[0;34m\u001b[0m\u001b[0;34m\u001b[0m\u001b[0m\n\u001b[0m\u001b[1;32m      4\u001b[0m \u001b[0;31m# Set elements should be immutable.\u001b[0m\u001b[0;34m\u001b[0m\u001b[0;34m\u001b[0m\u001b[0;34m\u001b[0m\u001b[0m\n",
      "\u001b[0;31mTypeError\u001b[0m: unhashable type: 'list'"
     ]
    }
   ],
   "source": [
    "set1 = {1,2,3}\n",
    "\n",
    "set2 = {1,2,[1,2]} \n",
    "# Set elements should be immutable."
   ]
  },
  {
   "cell_type": "markdown",
   "metadata": {},
   "source": [
    "### set union"
   ]
  },
  {
   "cell_type": "code",
   "execution_count": 78,
   "metadata": {},
   "outputs": [],
   "source": [
    "x = {\"apple\", \"banana\", \"cherry\"}\n",
    "y = {\"google\", \"microsoft\", \"apple\"}\n",
    "\n",
    "z = x.union(y)"
   ]
  },
  {
   "cell_type": "code",
   "execution_count": 79,
   "metadata": {},
   "outputs": [
    {
     "data": {
      "text/plain": [
       "{'apple', 'banana', 'cherry', 'google', 'microsoft'}"
      ]
     },
     "execution_count": 79,
     "metadata": {},
     "output_type": "execute_result"
    }
   ],
   "source": [
    "z"
   ]
  },
  {
   "cell_type": "code",
   "execution_count": null,
   "metadata": {},
   "outputs": [],
   "source": []
  }
 ],
 "metadata": {
  "colab": {
   "name": "Code Along Object Types.ipynb",
   "provenance": []
  },
  "kernelspec": {
   "display_name": "Python 3",
   "language": "python",
   "name": "python3"
  },
  "language_info": {
   "codemirror_mode": {
    "name": "ipython",
    "version": 3
   },
   "file_extension": ".py",
   "mimetype": "text/x-python",
   "name": "python",
   "nbconvert_exporter": "python",
   "pygments_lexer": "ipython3",
   "version": "3.8.8"
  }
 },
 "nbformat": 4,
 "nbformat_minor": 1
}
