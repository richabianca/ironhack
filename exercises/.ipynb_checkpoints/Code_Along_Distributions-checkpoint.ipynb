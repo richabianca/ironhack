{
 "cells": [
  {
   "cell_type": "code",
   "execution_count": 68,
   "id": "757bbc35",
   "metadata": {},
   "outputs": [],
   "source": [
    "import numpy as np\n",
    "import pandas as pd\n",
    "import scipy.stats as stats\n",
    "import random\n",
    "import matplotlib.pyplot as plt\n",
    "import seaborn as sns\n",
    "%matplotlib inline"
   ]
  },
  {
   "cell_type": "code",
   "execution_count": 2,
   "id": "e359b6f9",
   "metadata": {},
   "outputs": [],
   "source": [
    "# some of the observations follow an exponential dist\n",
    "r1 = stats.expon.rvs(size=10000, random_state=1000)\n",
    "\n",
    "# some follow a normal dist. loc = mean, scale = sigma\n",
    "r2 = stats.norm.rvs(loc=2, scale=1.5, size=10000, random_state=847)\n",
    "\n",
    "# some follow a constant dist: loc = min_value, scale = b - a\n",
    "r3 = stats.uniform.rvs(loc=-2, scale=9, size=10000, random_state=128)\n",
    "\n",
    "# there's a weird spike at some point\n",
    "r4 = stats.uniform.rvs(loc=5.5, scale=1, size=10000, random_state=128)"
   ]
  },
  {
   "cell_type": "code",
   "execution_count": 7,
   "id": "84602d4b",
   "metadata": {},
   "outputs": [
    {
     "data": {
      "text/plain": [
       "<AxesSubplot:>"
      ]
     },
     "execution_count": 7,
     "metadata": {},
     "output_type": "execute_result"
    },
    {
     "data": {
      "image/png": "[encoded data removed]",
      "text/plain": [
       "<Figure size 432x288 with 1 Axes>"
      ]
     },
     "metadata": {
      "needs_background": "light"
     },
     "output_type": "display_data"
    }
   ],
   "source": [
    "pd.Series(r1).hist()"
   ]
  },
  {
   "cell_type": "code",
   "execution_count": 8,
   "id": "88e0c813",
   "metadata": {},
   "outputs": [
    {
     "data": {
      "text/plain": [
       "<AxesSubplot:>"
      ]
     },
     "execution_count": 8,
     "metadata": {},
     "output_type": "execute_result"
    },
    {
     "data": {
      "image/png": "[encoded data removed]",
      "text/plain": [
       "<Figure size 432x288 with 1 Axes>"
      ]
     },
     "metadata": {
      "needs_background": "light"
     },
     "output_type": "display_data"
    }
   ],
   "source": [
    "pd.Series(r2).hist()"
   ]
  },
  {
   "cell_type": "code",
   "execution_count": 9,
   "id": "dce77b77",
   "metadata": {},
   "outputs": [
    {
     "data": {
      "text/plain": [
       "<AxesSubplot:>"
      ]
     },
     "execution_count": 9,
     "metadata": {},
     "output_type": "execute_result"
    },
    {
     "data": {
      "image/png": "[encoded data removed]",
      "text/plain": [
       "<Figure size 432x288 with 1 Axes>"
      ]
     },
     "metadata": {
      "needs_background": "light"
     },
     "output_type": "display_data"
    }
   ],
   "source": [
    "pd.Series(r3).hist()"
   ]
  },
  {
   "cell_type": "code",
   "execution_count": 10,
   "id": "30c47bbb",
   "metadata": {},
   "outputs": [],
   "source": [
    "pop = pd.Series(np.concatenate([r1, r2, r3, r4]))"
   ]
  },
  {
   "cell_type": "code",
   "execution_count": 11,
   "id": "c6220f29",
   "metadata": {},
   "outputs": [
    {
     "data": {
      "text/plain": [
       "<AxesSubplot:>"
      ]
     },
     "execution_count": 11,
     "metadata": {},
     "output_type": "execute_result"
    },
    {
     "data": {
      "image/png": "[encoded data removed]",
      "text/plain": [
       "<Figure size 432x288 with 1 Axes>"
      ]
     },
     "metadata": {
      "needs_background": "light"
     },
     "output_type": "display_data"
    }
   ],
   "source": [
    "pop.hist()"
   ]
  },
  {
   "cell_type": "markdown",
   "id": "06d84966",
   "metadata": {},
   "source": [
    "<br>taking Sample"
   ]
  },
  {
   "cell_type": "code",
   "execution_count": 35,
   "id": "eb47a481",
   "metadata": {},
   "outputs": [
    {
     "name": "stdout",
     "output_type": "stream",
     "text": [
      "1.9794381681294548\n",
      "1.5006611019266154\n"
     ]
    }
   ],
   "source": [
    "pop_mean=r2.mean()\n",
    "pop_std=r2.std()\n",
    "print(pop_mean)\n",
    "print(pop_std)"
   ]
  },
  {
   "cell_type": "code",
   "execution_count": 38,
   "id": "c8df5022",
   "metadata": {},
   "outputs": [
    {
     "data": {
      "text/plain": [
       "<AxesSubplot:>"
      ]
     },
     "execution_count": 38,
     "metadata": {},
     "output_type": "execute_result"
    },
    {
     "data": {
      "image/png": "[encoded data removed]",
      "text/plain": [
       "<Figure size 432x288 with 1 Axes>"
      ]
     },
     "metadata": {
      "needs_background": "light"
     },
     "output_type": "display_data"
    }
   ],
   "source": [
    "# sample of size 50\n",
    "sample = pd.Series(r2).sample(100, random_state=9)\n",
    "sample.hist()"
   ]
  },
  {
   "cell_type": "code",
   "execution_count": 45,
   "id": "e0f8c282",
   "metadata": {},
   "outputs": [
    {
     "data": {
      "text/plain": [
       "1.949336667571299"
      ]
     },
     "execution_count": 45,
     "metadata": {},
     "output_type": "execute_result"
    }
   ],
   "source": [
    "sample_mean=sample.mean()\n",
    "sample_mean"
   ]
  },
  {
   "cell_type": "code",
   "execution_count": 46,
   "id": "c571e677",
   "metadata": {},
   "outputs": [
    {
     "data": {
      "text/plain": [
       "1.4614622916962299"
      ]
     },
     "execution_count": 46,
     "metadata": {},
     "output_type": "execute_result"
    }
   ],
   "source": [
    "sample_std=sample.std()\n",
    "sample_std"
   ]
  },
  {
   "cell_type": "markdown",
   "id": "4ea78142",
   "metadata": {},
   "source": [
    "## Probability Density function"
   ]
  },
  {
   "cell_type": "code",
   "execution_count": 14,
   "id": "3548211e",
   "metadata": {},
   "outputs": [
    {
     "data": {
      "text/plain": [
       "array([0.03070856, 0.00759148, 0.329085  , ..., 0.25671513, 0.18642306,\n",
       "       0.00038437])"
      ]
     },
     "execution_count": 14,
     "metadata": {},
     "output_type": "execute_result"
    }
   ],
   "source": [
    "stats.norm.pdf(r2)"
   ]
  },
  {
   "cell_type": "code",
   "execution_count": 55,
   "id": "9f4573e5",
   "metadata": {},
   "outputs": [],
   "source": [
    "# generate a sample\n",
    "sample = normal(loc=50, scale=5, size=1000)\n",
    "# calculate parameters\n",
    "sample_mean = np.mean(sample)\n",
    "sample_std = np.std(sample)"
   ]
  },
  {
   "cell_type": "code",
   "execution_count": 56,
   "id": "cd87cd99",
   "metadata": {},
   "outputs": [],
   "source": [
    "# define the distribution\n",
    "dist = stats.norm(sample_mean, sample_std)"
   ]
  },
  {
   "cell_type": "code",
   "execution_count": 57,
   "id": "517da499",
   "metadata": {},
   "outputs": [],
   "source": [
    "values = [value for value in range(30, 70)]\n",
    "probabilities = [dist.pdf(value) for value in values]"
   ]
  },
  {
   "cell_type": "code",
   "execution_count": 58,
   "id": "8d0e28d8",
   "metadata": {},
   "outputs": [
    {
     "data": {
      "image/png": "[encoded data removed]",
      "text/plain": [
       "<Figure size 432x288 with 1 Axes>"
      ]
     },
     "metadata": {
      "needs_background": "light"
     },
     "output_type": "display_data"
    }
   ],
   "source": [
    "# plot the histogram and pdf\n",
    "plt.hist(sample, bins=10, density=True)\n",
    "plt.plot(values, probabilities)\n",
    "plt.show()"
   ]
  },
  {
   "cell_type": "markdown",
   "id": "9971eea7",
   "metadata": {},
   "source": [
    "random with numpy"
   ]
  },
  {
   "cell_type": "code",
   "execution_count": 31,
   "id": "122780bd",
   "metadata": {},
   "outputs": [
    {
     "data": {
      "text/plain": [
       "(array([ 10.,  35.,  99., 200., 228., 193., 150.,  59.,  18.,   8.]),\n",
       " array([-2.94697623, -2.33506905, -1.72316187, -1.11125468, -0.4993475 ,\n",
       "         0.11255968,  0.72446687,  1.33637405,  1.94828124,  2.56018842,\n",
       "         3.1720956 ]),\n",
       " <BarContainer object of 10 artists>)"
      ]
     },
     "execution_count": 31,
     "metadata": {},
     "output_type": "execute_result"
    },
    {
     "data": {
      "image/png": "[encoded data removed]",
      "text/plain": [
       "<Figure size 432x288 with 1 Axes>"
      ]
     },
     "metadata": {
      "needs_background": "light"
     },
     "output_type": "display_data"
    }
   ],
   "source": [
    "from numpy.random import normal\n",
    "# generate a sample\n",
    "sample = normal(size=1000)\n",
    "\n",
    "plt.hist(sample, bins=10)"
   ]
  }
 ],
 "metadata": {
  "kernelspec": {
   "display_name": "Python 3",
   "language": "python",
   "name": "python3"
  },
  "language_info": {
   "codemirror_mode": {
    "name": "ipython",
    "version": 3
   },
   "file_extension": ".py",
   "mimetype": "text/x-python",
   "name": "python",
   "nbconvert_exporter": "python",
   "pygments_lexer": "ipython3",
   "version": "3.8.8"
  }
 },
 "nbformat": 4,
 "nbformat_minor": 5
}
