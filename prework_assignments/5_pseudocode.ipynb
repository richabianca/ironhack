{
 "cells": [
  {
   "cell_type": "markdown",
   "metadata": {},
   "source": [
    "## What is Pseudo-code?"
   ]
  },
  {
   "cell_type": "markdown",
   "metadata": {},
   "source": [
    "Pseudo-code is an informal coding practice to help programmers plan algorithms and train programmatic thinking. \n",
    "Pseudo-code is not tied to any specific programming language such as Python, JavaScript, or C#. Instead, it uses human language. \n",
    "\n",
    "By using pseudo-code, you can plan every step of your program without worrying about syntax. \n",
    "\n",
    "Its greatest benefit is to allow you to discover the vulnerabilities and opportunities of your programmatic logic in order to improve it before implementation."
   ]
  },
  {
   "cell_type": "markdown",
   "metadata": {},
   "source": [
    "It is essentially breaking down the problem into simpler steps and simpler words. We shouldn't be aiming to use technical expressions, but simple conversational language. \n",
    "\n",
    "This process can be broken down into two steps: \n",
    "\n",
    "1. First, think about how you will approach the problem (which strategy you will use since quite often one problem can be solved in many different ways).\n",
    "\n",
    "2. Second, consider what elements you will need in each step (loops, lists, dictionaries, variables, conditionals, etc.).\n",
    "\n",
    "One way to achieve it is to write on a piece of paper each step you would like to do **even the most obvious step** and then figure out how to write the corresponding code.\n",
    "\n",
    "To know which elements you will need, **think in English!!!** and pay extreme attention to each word you say as this will tell you which python instructions you will need.\n",
    "\n",
    "Ex 1: For every element in this list I want to compute the square of each element.\n",
    "\n",
    "Look at the sentence, there are at least two keywords: **FOR, -> FOR LOOP**, and **list, -> list variable**\n",
    "\n",
    "Ex 2: As long as the runner hasn't reached the finish line keep running.\n",
    "\n",
    "Look at the sentence, there is a condition here for stop. Therefore you should use a **WHILE LOOP**. To make sure the code will run, you need to use a variable to store the state of the condition at the beginning. In addition, you will need another variable to store the progress of the runner!"
   ]
  },
  {
   "cell_type": "markdown",
   "metadata": {},
   "source": [
    "### Do's & Don'ts:"
   ]
  },
  {
   "cell_type": "markdown",
   "metadata": {},
   "source": [
    "#### Do's:"
   ]
  },
  {
   "cell_type": "markdown",
   "metadata": {},
   "source": [
    "- Use control structure\n",
    "- Use proper naming conventions\n",
    "- Indentations and white spaces are the key\n",
    "- Keep it simple\n",
    "- Keep it concise"
   ]
  },
  {
   "cell_type": "markdown",
   "metadata": {},
   "source": [
    "#### Don'ts:"
   ]
  },
  {
   "cell_type": "markdown",
   "metadata": {},
   "source": [
    "- Don't make your pseudo-code abstract\n",
    "- Don't be too generalized"
   ]
  },
  {
   "cell_type": "markdown",
   "metadata": {},
   "source": [
    "### Some Examples"
   ]
  },
  {
   "cell_type": "markdown",
   "metadata": {},
   "source": [
    "1. Write a program that asks the user for a temperature in Fahrenheit and prints out the same temperature in Celsius. "
   ]
  },
  {
   "cell_type": "code",
   "execution_count": 1,
   "metadata": {},
   "outputs": [],
   "source": [
    "# This is a sample pseudo code"
   ]
  },
  {
   "cell_type": "raw",
   "metadata": {},
   "source": [
    "x = Get user input\n",
    "y = Convert x to Celsius\n",
    "Output message displaying Celsius temperature"
   ]
  },
  {
   "cell_type": "code",
   "execution_count": 3,
   "metadata": {},
   "outputs": [],
   "source": [
    "# Here is the code "
   ]
  },
  {
   "cell_type": "code",
   "execution_count": 5,
   "metadata": {},
   "outputs": [
    {
     "name": "stdout",
     "output_type": "stream",
     "text": [
      "Please input a temperature in Fahrenheit. 100\n",
      "Data type for variable x is  <class 'str'>\n",
      "Your temperature in Celsius is: 37.77777777777778\n"
     ]
    }
   ],
   "source": [
    "# precise temperature\n",
    "# Use the input command for user input. Note when we use the input function, data type is string by default\n",
    "x=input('Please input a temperature in Fahrenheit. ')  \n",
    "            \n",
    "# We can check the data type for variable x\n",
    "print(\"Data type for variable x is \", type(x)) \n",
    "\n",
    "y=(float(x)-32)*5/9  # Formula to convert degree to fahreheit    \n",
    "\n",
    "print('Your temperature in Celsius is: ', y)"
   ]
  },
  {
   "cell_type": "markdown",
   "metadata": {},
   "source": [
    "2. Write a program that converts from Fahrenheit to Celsius or from Celsius to Fahrenheit, depending on the user's choice."
   ]
  },
  {
   "cell_type": "code",
   "execution_count": 7,
   "metadata": {},
   "outputs": [],
   "source": [
    "# This is a pseudo code"
   ]
  },
  {
   "cell_type": "raw",
   "metadata": {},
   "source": [
    "x = input \"Press 1 to convert from Fahrenheit to Celsius or Press 2 to convert from Celsius to Fahrenheit.\"\n",
    "y = input ask what number?\n",
    "z = choice\n",
    "\n",
    "if z = 1 (1 is pressed)  \n",
    "    do f to c conversion      # Note we use the correct identation in the pseudocode as well\n",
    "    print output\n",
    "elif z = 2 (2 is pressed)\n",
    "    do c to f conversion\n",
    "    print output\n",
    "else\n",
    "    print \"Please enter either 1 or 2\""
   ]
  },
  {
   "cell_type": "code",
   "execution_count": null,
   "metadata": {},
   "outputs": [],
   "source": [
    "# Here is the code "
   ]
  },
  {
   "cell_type": "code",
   "execution_count": 6,
   "metadata": {},
   "outputs": [
    {
     "name": "stdout",
     "output_type": "stream",
     "text": [
      "Press 1 to convert from Fahrenheit to Celsius or Press 2 to convert from Celsius to Fahrenheit.2\n",
      "What is the number you want to convert?30\n",
      "86.0\n"
     ]
    }
   ],
   "source": [
    "x = int(input(\"Press 1 to convert from Fahrenheit to Celsius or Press 2 to convert from Celsius to Fahrenheit.\"))\n",
    "y = input(\"What is the number you want to convert?\")\n",
    "z = float(x)\n",
    "\n",
    "if z == 1:\n",
    "    y=(float(y)-32)*5/9\n",
    "    print(y)\n",
    "elif z == 2:\n",
    "    y=float(y)*9/5+32\n",
    "    print(y)\n",
    "else:\n",
    "    print(\"Please enter either 1 or 2\")"
   ]
  },
  {
   "cell_type": "markdown",
   "metadata": {},
   "source": [
    "**Making the code more robust**"
   ]
  },
  {
   "cell_type": "markdown",
   "metadata": {},
   "source": [
    "What more can be added?   \n",
    "Right now, if we debug our code, after the first wrong input (let's say \"3\") the code will print an error message and stop.   \n",
    "\n",
    "To succeed with the request and improve the user experience, we need to keep on asking for the value until the correct one is received. Besides that, we should prevent compiling errors.  \n",
    "\n",
    "The `float()` function can receive only numerical values. What if a user enters a string value? The user will receive a Python error message which is useless for him.  \n",
    "\n",
    "We need to prevent such bad user experiences."
   ]
  },
  {
   "cell_type": "code",
   "execution_count": 8,
   "metadata": {},
   "outputs": [],
   "source": [
    "# This is a pseudo code"
   ]
  },
  {
   "cell_type": "raw",
   "metadata": {},
   "source": [
    "flag1 = entered value is wrong  \n",
    "# We are setting the default value to wrong/false. We will change the value to correct/true if the input value is correct                \n",
    "while flag1 is wrong\n",
    "    x = input \"Press 1 to convert from Fahrenheit to Celsius or Press 2 to convert from Celsius to Fahrenheit. \"\n",
    "    if x is not 1 or 2\n",
    "        print error message\n",
    "    else\n",
    "        z = choice\n",
    "        flag1 = entered value is correct\n",
    "\n",
    "flag2 = entered number is not a number\n",
    "while flag2 is wrong\n",
    "    y = input ask what number?\n",
    "    if y is not number\n",
    "        print error message\n",
    "    else\n",
    "        convert y into float number\n",
    "        flag2 = entered value is correct\n",
    "\n",
    "if z = 1 (1 is pressed)\n",
    "    do f to c conversion\n",
    "    print output\n",
    "else (2 is pressed)\n",
    "    do c to f conversion\n",
    "    print output"
   ]
  },
  {
   "cell_type": "code",
   "execution_count": 11,
   "metadata": {},
   "outputs": [],
   "source": [
    "# Here is the code "
   ]
  },
  {
   "cell_type": "code",
   "execution_count": 11,
   "metadata": {},
   "outputs": [
    {
     "name": "stdout",
     "output_type": "stream",
     "text": [
      "Press 1 to convert from Fahrenheit to Celsius or Press 2 to convert from Celsius to Fahrenheit. a\n",
      "ERROR: Please enter either 1 or 2\n",
      "Press 1 to convert from Fahrenheit to Celsius or Press 2 to convert from Celsius to Fahrenheit. 1\n",
      "What is the number you want to convert?a\n",
      "ERROR: Please enter a number\n",
      "What is the number you want to convert?100\n",
      "37.77777777777778\n"
     ]
    }
   ],
   "source": [
    "flag1=False\n",
    "while flag1==False:\n",
    "    x = input(\"Press 1 to convert from Fahrenheit to Celsius or Press 2 to convert from Celsius to Fahrenheit. \")\n",
    "    if x not in ['1','2']:\n",
    "        print('ERROR: Please enter either 1 or 2')\n",
    "    else:\n",
    "        z = int(x)\n",
    "        flag1=True\n",
    "\n",
    "flag2=False\n",
    "while flag2==False:\n",
    "    y = input(\"What is the number you want to convert?\")\n",
    "    if y.replace(\".\", \"\", 1).lstrip('+-').isdigit()==False:\n",
    "        print('ERROR: Please enter a number')\n",
    "    else:\n",
    "        y=float(y)\n",
    "        flag2=True\n",
    "\n",
    "if z == 1:\n",
    "    y=(y-32)*5/9\n",
    "    print(y)\n",
    "else:\n",
    "    y=y*9/5+32\n",
    "    print(y)"
   ]
  },
  {
   "cell_type": "code",
   "execution_count": null,
   "metadata": {},
   "outputs": [],
   "source": []
  },
  {
   "cell_type": "markdown",
   "metadata": {},
   "source": [
    "### Exercise - Writing Pseudocode"
   ]
  },
  {
   "cell_type": "markdown",
   "metadata": {},
   "source": [
    "#### Duel Of Sorcerers"
   ]
  },
  {
   "cell_type": "markdown",
   "metadata": {},
   "source": [
    "You are witnessing an epic battle between two powerful sorcerers: Gandalf and Saruman. \n",
    "Each sorcerer has 10 spells of variable power in their mind and they are going to throw them one after the other. \n",
    "The winner of the duel will be the one who wins more of those clashes between spells. Spells are represented as a list of 10 integers whose value equals the power of the spell.\n",
    "\n",
    "```shell\n",
    "gandalf = [10, 11, 13, 30, 22, 11, 10, 33, 22, 22]\n",
    "saruman = [23, 66, 12, 43, 12, 10, 44, 23, 12, 17]\n",
    "```\n",
    "\n",
    "For example:\n",
    "The first clash is won by Saruman: 10 against 23, wins 23\n",
    "The second clash wins Saruman: 11 against 66, wins 66\n",
    "etc.\n",
    "\n",
    "You will create two variables, one for each sorcerer, where the sum of clashes wins will be stored. Depending on which variable is greater at the end of the duel, you will show one of the following three results on the screen:\n",
    "- Gandalf wins\n",
    "- Saruman wins\n",
    "- Tie\n",
    "\n",
    "Write a pseudocode to solve this problem and then code it!"
   ]
  },
  {
   "cell_type": "markdown",
   "metadata": {},
   "source": [
    "Hints to solve this problem: \n",
    "\n",
    "- This is a tournament of a fixed length ( as many times as elements in any list, both have the same amount of elements), therefore, you know beforehand **how many times** Gandalf and Saruman will be fighting each other. Can you figure out the type of loop? \n",
    "\n",
    "- Moreover, you will have to **compare** the elements of each list in each fight. How you can make a comparison? How you can retrieve each element of both lists?\n",
    "\n",
    "- Then, you will need to keep track of how many times each sorcerer won any fight. That is **counting!!**, you will need some variables to store this progress.\n",
    "\n",
    "- Finally, at the end of the tournament, you will need to **compare** the number of wins of each sorcerer and make a decision based on this comparison.\n",
    "\n",
    "Good luck!"
   ]
  },
  {
   "cell_type": "code",
   "execution_count": null,
   "metadata": {},
   "outputs": [],
   "source": [
    "gandalf = [10, 11, 13, 30, 22, 11, 10, 33, 22, 22]\n",
    "saruman = [23, 66, 12, 43, 12, 10, 44, 23, 12, 17]\n",
    "\n",
    "gandalf_wins = counting variable\n",
    "saruman_wins = counting variable\n",
    "\n",
    "for loop itemx, itemi in both lists:\n",
    "    compare each of the items in the list, than sum every win to each winner variable\n",
    "    \n",
    "if gandalf_wins wonn  \n",
    "print gandalf wins\n",
    "if saruman_wins won\n",
    "print saruman wins\n",
    "else\n",
    "print Tie"
   ]
  },
  {
   "cell_type": "code",
   "execution_count": 22,
   "metadata": {},
   "outputs": [
    {
     "name": "stdout",
     "output_type": "stream",
     "text": [
      "Gandalf wins\n"
     ]
    }
   ],
   "source": [
    "#code\n",
    "gandalf = [10, 11, 13, 30, 22, 11, 10, 33, 22, 22]\n",
    "saruman = [23, 66, 12, 43, 12, 10, 44, 23, 12, 17]\n",
    "\n",
    "gandalf_wins = 0\n",
    "saruman_wins = 0\n",
    "\n",
    "for x,i in zip(gandalf, saruman):\n",
    "    if x > i:\n",
    "        gandalf_wins += 1\n",
    "    else:\n",
    "        saruman_wins += 1\n",
    "\n",
    "if gandalf_wins > saruman_wins:\n",
    "    print('Gandalf wins')\n",
    "elif saruman_wins > gandalf_wins:\n",
    "    print('Saruman wins')\n",
    "else:\n",
    "    print('Tie')\n"
   ]
  },
  {
   "cell_type": "code",
   "execution_count": null,
   "metadata": {},
   "outputs": [],
   "source": [
    "PW | Duel Of Sorcerers extended\n",
    "\n",
    "\n",
    "Context\n",
    "In the exercise for Writing Pseudocode, we worked on the Duel Of Sorcerers problem to find which of the two sorcerers won the battle. Here is the original problem.\n",
    "\n",
    "You are witnessing an epic battle between two powerful sorcerers: Gandalf and Saruman. Each sorcerer has 10 spells of different powers in their mind and they are going to throw them one after the other. The winner of the duel will be the one who wins more of those clashes between spells. Spells are represented as a list of 10 integers whose value equals the power of the spell.\n",
    "\n",
    "\n",
    "gandalf = [10, 11, 13, 30, 22, 11, 10, 33, 22, 22]\n",
    "saruman = [23, 66, 12, 43, 12, 10, 44, 23, 12, 17]\n",
    "For example:\n",
    "\n",
    "The first clash is won by Saruman: 10 against 23\n",
    "The second clash is won by Saruman: 11 against 66\n",
    "etc.\n",
    "You will create two variables, one for each sorcerer, where the total number of clashes won by each sorcerer will be stored. Depending on which variable is greater at the end of the duel, you will show one of the following three results on the screen:\n",
    "\n",
    "Gandalf wins\n",
    "Saruman wins\n",
    "Tie\n",
    "\n",
    "\n",
    "If you have not completed the above problem, we recommend you to first work on it!\n",
    "\n",
    "NOW we want to add some variation to the problem.\n",
    "\n",
    "Instead of the spells being in a list, they now have a name and there is a dictionary that relates that name to a power. The information is provided below:\n",
    "\n",
    "power = {\n",
    "    'Fireball': 50, \n",
    "    'Lightning bolt': 40, \n",
    "    'Magic arrow': 10, \n",
    "    'Black Tentacles': 25, \n",
    "    'Contagion': 45\n",
    "}\n",
    "The powers of the sorcerers that they will use in the clash have been provided in the list. The duel happens in the same way as above:\n",
    "\n",
    "gandalf = ['Fireball', 'Lightning bolt', 'Lightning bolt', 'Magic arrow', 'Fireball', 'Magic arrow', 'Lightning bolt', 'Fireball', 'Fireball', 'Fireball']\n",
    "\n",
    "saruman = ['Contagion', 'Contagion', 'Black Tentacles', 'Fireball', 'Black Tentacles', 'Lightning bolt', 'Magic arrow', 'Contagion', 'Magic arrow', 'Magic arrow']\n",
    "\n",
    "\n",
    "A sorcerer wins if he succeeds in winning 3 spell clashes in a row (ie. CONSECUTIVE).\n",
    "\n",
    "It doesn't matter if a sorcerer wins three times but not consecutive, they MUST be consecutive to wins.\n",
    "\n",
    "Getting Started\n",
    "All your work should be done in the Your Solution section.\n",
    "More specifically, your task is to implement the functions battle, avg_spells and stdev_spells .\n",
    "The function declarations are already provided in the Your Solution section.\n",
    "\n",
    "Due to the testing environment setup, you should not change the names of the provided function declarations.\n",
    "\n",
    "To begin working on the solution, you should start writing your code inside the function.\n",
    "\n",
    "Hint: You should always first go over and read the Task Instructions carefully to ensure that you fully understand the requirements of the task.\n",
    "\n",
    "\n",
    "\n",
    "Task Instructions\n",
    "Given the information above find out:\n",
    "\n",
    "Which sorcerer won the battle - Gandalf or Saruman?\n",
    "What is the average of the corresponding power values in the list of the winning sorcerer? Round off your result to one decimal place.\n",
    "What is the standard deviation of the corresponding power values in the list of the winning sorcerer? Round off your result to one decimal place.\n",
    "Create one function for each of the above questions with the following names.\n",
    "\n",
    "\n",
    "Example\n",
    "\n",
    "\n",
    "def battle():\n",
    "    return '<Name of the winner>'\n",
    "\n",
    "def avg_spells():\n",
    "    return <your solution>\n",
    "\n",
    "def stdev_spells():\n",
    "    return <your solution>\n",
    "\n",
    "\n",
    "Tips:\n",
    "Take into account the following considerations when writing your code:\n",
    "\n",
    "Battle:\n",
    "\n",
    "How do you can track the number of wins of each sorcerer?\n",
    "How can you track CONSECUTIVE wins? (Remember that a sorcerer needs three consecutive wins to win the tournament, winning three non-consecutive times is not valid to win the tournament.)\n",
    "Do you have a fixed amount of fights, or do you have a stopping condition? You can exit a loop earlier using the break command. This will make python leave the corresponding loop.\n",
    "Consider using conditionals and be careful with combining the conditions using logical operators\n",
    "The elements of the sorcerer's lists doesn't give you the scores, they give you the name of the clash. You have to use the corresponding dictionary to get the power value from the clash name stored in the list. First, practice how to retrieve the score from any single clash name of your choice in any list, and then figure out how to extend it to all the elements in the list.\n",
    "Be careful and consider all the possible cases for each fight ( wins, loses and ties for each sorcerer )\n",
    "Spells average:\n",
    "\n",
    "Converting list spell names to power is a bit painful. Why don't you store directly consecutive power values somewhere to compute the mean later?\n",
    "Remember that to compute the mean, you can use the function np.mean() from numpy but then, you must load the first numpy with\n",
    "\n",
    "\n",
    "import numpy as np\n",
    "\n",
    "\n",
    "To round one float number to one decimal digit, you can use the function round(a,n) where a is a float number and n is the number of decimal places you want to display.\n",
    "Spells standard deviation:\n",
    "\n",
    "From the previous exercise you have stored all the power values, you can reuse the code\n",
    "To compute the standard deviation, you can use the numpy function np.std().\n",
    "To round to one decimal digit, you can use the function round(a,n) where a is a float number and n is the number of decimal places you want to display.\n",
    "Running Your Code\n",
    "To run the code and to check your progress using the RUN TESTS button.\n",
    "This will run your code against the tests and output the results in the Test Results section.\n",
    "\n",
    "The Test Results section contains the list of all the tests that your code Passed or Failed. These test messages are requirements that your code should fulfill. They include a description of what you have to do.\n",
    "\n",
    "\n",
    "\n",
    "NOTE: If it's easier for you, you can work on the problem in the Jupyter notebook and then paste the solutions here. However, keep in mind, you need to compare your solution against tests that are provided in Qualified. This being said, check out the solution for each step one by one as you develop them in the notebook.\n",
    "\n",
    "\n",
    "\n",
    "Challenge Submission\n",
    "When ready you can submit the current challenge solution by clicking the SUBMIT SOLUTION button.\n",
    "\n",
    "\n",
    "\n",
    "Final Submission\n",
    "To make a final submission of the entire assessment, go to the last challenge in the assessment and click on the REVIEW ASSESSMENT button in the upper right corner.\n",
    "\n",
    "There you will be prompted to check your code once again and do a final submission.\n",
    "\n",
    "Note: You can't do any re-submission after this step is done.\n",
    "\n"
   ]
  }
 ],
 "metadata": {
  "kernelspec": {
   "display_name": "Python 3",
   "language": "python",
   "name": "python3"
  },
  "language_info": {
   "codemirror_mode": {
    "name": "ipython",
    "version": 3
   },
   "file_extension": ".py",
   "mimetype": "text/x-python",
   "name": "python",
   "nbconvert_exporter": "python",
   "pygments_lexer": "ipython3",
   "version": "3.7.3"
  }
 },
 "nbformat": 4,
 "nbformat_minor": 2
}
